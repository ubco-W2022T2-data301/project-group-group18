{
 "cells": [
  {
   "cell_type": "markdown",
   "metadata": {},
   "source": [
    "# Julie Flament"
   ]
  },
  {
   "cell_type": "markdown",
   "metadata": {},
   "source": [
    "\n",
    "\n",
    "## Research question/interests\n",
    "**How does a lack of resources due to low wealth affect the literacy rate?**\n",
    "# Briefly describe your research question or interests here.\n",
    "To answer my question, I will compare three levels of wealth: rich, middle-class, and poor. I will use the wealth column in our data set that classifies each individual into a specific quintile (1-5). I will presumably use a bar graph with three bars representing the different wealth levels. A bar graph will highlight the differences in literacy rates due to the unequal distribution of wealth."
   ]
  },
  {
   "cell_type": "code",
   "execution_count": 2,
   "metadata": {},
   "outputs": [],
   "source": [
    "import pandas as pd\n",
    "import numpy as np\n",
    "import matplotlib.pyplot as plt\n",
    "import seaborn as sns\n",
    "from scripts import project_function2 as pf\n",
    "\n",
    "\n",
    "#data = pd.read_csv(\"../data/raw/dataset_raw.csv\",low_memory=False)\n",
    "#data"
   ]
  },
  {
   "cell_type": "code",
   "execution_count": 3,
   "metadata": {},
   "outputs": [],
   "source": [
    "dataset = pf.set_data(\"../data/raw/dataset_raw.csv\")"
   ]
  },
  {
   "cell_type": "markdown",
   "metadata": {},
   "source": [
    "**How does the literacy rate change around the world?**\n",
    "With this plot, I am comparing the literacy rates between regions around the world. In order to relate this to wealth, I am also comparing the different income groups within these regions. Not every region has countries of every income level, however, they all have upper-middle income countries and lower-middle income countries (orange and green). When looking at the graph, we discover that throughout the regions, upper-middle income countries always had a high literacy rate. In fact, most regions were close to having a 100% literacy rate. On the other hand, we learn that low income countries have an average of 60% literacy rate throughout the regions. This is significantly lower than upper-middle income countries. Because the higher income countries had a much higher literacy rate than lower income countries, we can assume that wealth does impact the literacy rate."
   ]
  },
  {
   "cell_type": "code",
   "execution_count": null,
   "metadata": {},
   "outputs": [],
   "source": [
    "pf.barplot(dataset)"
   ]
  },
  {
   "cell_type": "code",
   "execution_count": null,
   "metadata": {},
   "outputs": [],
   "source": [
    "#fig, axes = plt.subplots(1, 3, figsize=(19, 5),sharey=True)\n",
    "#fig.suptitle('% of People Who Completed Different School Levels Based on Income Groups')\n",
    "\n",
    "pf.ridgeline1(dataset)"
   ]
  },
  {
   "cell_type": "code",
   "execution_count": null,
   "metadata": {},
   "outputs": [],
   "source": [
    "pf.ridgeline2(dataset)"
   ]
  },
  {
   "cell_type": "code",
   "execution_count": null,
   "metadata": {},
   "outputs": [],
   "source": [
    "pf.ridgeline3(dataset)"
   ]
  },
  {
   "cell_type": "markdown",
   "metadata": {},
   "source": [
    "**How does the education level change when compared to income groups?**\n",
    "With these plots, I am comparing the percentage of people who completed a certain education level in each income groups. My first plot shows the percentage of people who completed primary school. We discover that throughout the majority of the income levels, on average 80+% of people completed primary school. In low income countries, the average was 40%. In the second graph, we see that the average percentage of people who completed lower secondary school dropped, especially in lower middle income countries, higher income countries still have a relatively high completion rate. In my last graph, we notice that the average percentage of people who completed upper secondary school significantly dropped in every income group but once again the higher income countries have a higher completion rate. We can conclude wealth level impacts education level which impacts literacy rates. "
   ]
  },
  {
   "cell_type": "code",
   "execution_count": null,
   "metadata": {},
   "outputs": [],
   "source": [
    "pf.boxplots(dataset)"
   ]
  },
  {
   "cell_type": "markdown",
   "metadata": {},
   "source": [
    "**How does the literacy rate change across different income groups based on sex?**\n",
    "The table below shows the number of countries per income group used in the plot. With the plot, we can see that throughout every income group, males had higher literacy rates than women. Only low income countries did not have an almost 100% literacy rate for males. The higher the income, the higher the literacy rate in both males and females. We can conclude that because wealth especially affects the literacy rate in men, men are prioritized in education."
   ]
  },
  {
   "cell_type": "code",
   "execution_count": null,
   "metadata": {},
   "outputs": [],
   "source": [
    "low = dataset['income_group'].value_counts()[\"Low income countries\"]\n",
    "lomi = dataset['income_group'].value_counts()[\"Lower middle income countries\"]\n",
    "upmi = dataset['income_group'].value_counts()[\"Upper middle income countries\"]\n",
    "high = dataset['income_group'].value_counts()[\"High income countries\"]\n",
    "\n",
    "print(f\"Lower Income Countries: {low} \\nLower Middle Income Countries: {lomi} \\nUpper Middle Income Countries: {upmi} \\nHigh Income Countries: {high}\")\n"
   ]
  },
  {
   "cell_type": "code",
   "execution_count": null,
   "metadata": {},
   "outputs": [],
   "source": [
    "pf.violinplot(dataset)\n"
   ]
  },
  {
   "cell_type": "markdown",
   "metadata": {},
   "source": [
    "## Research question/interests\n",
    "**Does gender affect how wealth impacts literacy rates around the world?**\n",
    "Are there countries where being wealthier results in only one gender having higher literacy rates?\n",
    "\n",
    "\n",
    "My plan is to create a new plots that specifically compare wealth and gender. Now that I compared wealth to region, I can compare it to gender which will provide me with even more insight on how wealth affect literacy rates. I plan on continuing to use the literacy_1524_m and literacy_1527_no columns to provide data. I also now plan to use the column Gender. I will create several bar plots each comparing Gender and Wealth. Finally, I will create a FaceGrid plot to compare income_groups with gender."
   ]
  },
  {
   "cell_type": "markdown",
   "metadata": {},
   "source": [
    "### Notes regarding the data collected above\n",
    "\n",
    "- countries in Latin-American and the Caribbean have higher literacy rates throughout most of the Quintiles. Why does wealth have a lesser impact on literacy rates in those regions?\n",
    "- countries in Sub-Saharan Africa have an overall lower literacy rates no matter the quintile. However, the higher the quintile, the more there are a few countries in Sub-Saharan Africa that have a higher literacy rate. Wealth clearly has an effect on the literacy rates in this region. \n",
    "- Central and Southern Asian countries have higher literacy rates (only in quintile 3-5) than other countries \n",
    "\n"
   ]
  },
  {
   "cell_type": "code",
   "execution_count": null,
   "metadata": {},
   "outputs": [],
   "source": []
  }
 ],
 "metadata": {
  "kernelspec": {
   "display_name": "Python 3 (ipykernel)",
   "language": "python",
   "name": "python3"
  },
  "language_info": {
   "codemirror_mode": {
    "name": "ipython",
    "version": 3
   },
   "file_extension": ".py",
   "mimetype": "text/x-python",
   "name": "python",
   "nbconvert_exporter": "python",
   "pygments_lexer": "ipython3",
   "version": "3.10.9"
  }
 },
 "nbformat": 4,
 "nbformat_minor": 4
}
